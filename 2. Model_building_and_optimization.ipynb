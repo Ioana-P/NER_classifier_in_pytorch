{
 "cells": [
  {
   "cell_type": "markdown",
   "metadata": {},
   "source": [
    "<a id=contents></a>\n",
    "\n",
    "# Model building\n",
    "## What are we trying to predict?\n",
    "\n",
    "\n",
    "[1. ETL and Train Test Split](#ETL)\n",
    "\n",
    "[2. Modelling with Random Forest](#RF)\n",
    "\n",
    "[3. Modelling with Conditional Random Field](#CRF)\n",
    "\n",
    "[4. Choice of model architectures](#selection)\n",
    "\n",
    "[4.1 Model 1](#one)\n",
    "\n",
    "[4.2 Model 2](#two)\n",
    "\n",
    "[4.2 Model 3](#three)\n",
    "\n",
    "[4.2 Model 4](#four)\n",
    "\n",
    "[4.2 Model 5](#five)\n",
    "\n",
    "[7. Conclusions and model comparison table](#conc)"
   ]
  },
  {
   "cell_type": "code",
   "execution_count": 17,
   "metadata": {},
   "outputs": [
    {
     "name": "stdout",
     "output_type": "stream",
     "text": [
      "The autoreload extension is already loaded. To reload it, use:\n",
      "  %reload_ext autoreload\n"
     ]
    }
   ],
   "source": [
    "\n",
    "import pandas as pd\n",
    "import numpy as np\n",
    "\n",
    "import pickle\n",
    "\n",
    "import matplotlib.pyplot as plt\n",
    "import seaborn as sns\n",
    "\n",
    "%matplotlib inline\n",
    "sns.set_style(\"darkgrid\")\n",
    "\n",
    "from sklearn.linear_model import LogisticRegression\n",
    "from sklearn.metrics import confusion_matrix, multilabel_confusion_matrix\n",
    "from sklearn.naive_bayes import MultinomialNB\n",
    "from sklearn import metrics\n",
    "from sklearn.model_selection import train_test_split, GridSearchCV, cross_validate\n",
    "from matplotlib import cm\n",
    "import numpy as np\n",
    "from sklearn.ensemble import RandomForestClassifier,GradientBoostingClassifier\n",
    "from sklearn.metrics import accuracy_score, roc_auc_score, roc_curve\n",
    "from sklearn.metrics import f1_score\n",
    "\n",
    "from sklearn_crfsuite import CRF, scorers, metrics\n",
    "from sklearn.model_selection import cross_val_predict\n",
    "from sklearn_crfsuite.metrics import flat_classification_report\n",
    "from sklearn.metrics import classification_report, make_scorer\n",
    "\n",
    "from nltk.corpus import stopwords\n",
    "from nltk.tokenize import RegexpTokenizer\n",
    "import re\n",
    "import string\n",
    "tokenizer = RegexpTokenizer(r'\\b\\w{3,}\\b')\n",
    "stop_words = list(set(stopwords.words(\"english\")))\n",
    "stop_words += list(string.punctuation)\n",
    "\n",
    "import warnings\n",
    "warnings.filterwarnings('ignore')\n",
    "\n",
    "%load_ext autoreload\n",
    "%autoreload 2"
   ]
  },
  {
   "cell_type": "markdown",
   "metadata": {},
   "source": [
    "<a id=ETL ><a/> \n",
    "\n",
    "## 1. ETL of data and Train-Test Split\n",
    "    \n",
    "[LINK to table of contents](#contents)"
   ]
  },
  {
   "cell_type": "code",
   "execution_count": 11,
   "metadata": {},
   "outputs": [],
   "source": [
    "feature_df = pd.read_pickle('feature_based_data/final_feature_data.pkl')\n",
    "feature_y = feature_df.Tag\n",
    "feature_X = feature_df.drop(columns=['Tag'])\n",
    "\n",
    "x_train, x_test, y_train, y_test = train_test_split(feature_X, feature_y, test_size=.2, random_state=12345)"
   ]
  },
  {
   "cell_type": "code",
   "execution_count": 12,
   "metadata": {},
   "outputs": [
    {
     "data": {
      "text/html": [
       "<div>\n",
       "<style scoped>\n",
       "    .dataframe tbody tr th:only-of-type {\n",
       "        vertical-align: middle;\n",
       "    }\n",
       "\n",
       "    .dataframe tbody tr th {\n",
       "        vertical-align: top;\n",
       "    }\n",
       "\n",
       "    .dataframe thead th {\n",
       "        text-align: right;\n",
       "    }\n",
       "</style>\n",
       "<table border=\"1\" class=\"dataframe\">\n",
       "  <thead>\n",
       "    <tr style=\"text-align: right;\">\n",
       "      <th></th>\n",
       "      <th>is_title</th>\n",
       "      <th>length</th>\n",
       "      <th>is_upper</th>\n",
       "      <th>is_digit</th>\n",
       "      <th>is_prev_NE</th>\n",
       "      <th>prev_-1_POS_NNP</th>\n",
       "      <th>prev_-1_POS_NN</th>\n",
       "      <th>is_prev_pos_same_as_current</th>\n",
       "      <th>POS_NNP</th>\n",
       "      <th>POS_NN</th>\n",
       "      <th>POS_IN</th>\n",
       "      <th>POS_DT</th>\n",
       "      <th>POS_.</th>\n",
       "    </tr>\n",
       "  </thead>\n",
       "  <tbody>\n",
       "    <tr>\n",
       "      <th>42758</th>\n",
       "      <td>0</td>\n",
       "      <td>7</td>\n",
       "      <td>0</td>\n",
       "      <td>0</td>\n",
       "      <td>0</td>\n",
       "      <td>0</td>\n",
       "      <td>0</td>\n",
       "      <td>0</td>\n",
       "      <td>0</td>\n",
       "      <td>1</td>\n",
       "      <td>0</td>\n",
       "      <td>0</td>\n",
       "      <td>0</td>\n",
       "    </tr>\n",
       "    <tr>\n",
       "      <th>56828</th>\n",
       "      <td>0</td>\n",
       "      <td>4</td>\n",
       "      <td>0</td>\n",
       "      <td>0</td>\n",
       "      <td>0</td>\n",
       "      <td>0</td>\n",
       "      <td>0</td>\n",
       "      <td>0</td>\n",
       "      <td>0</td>\n",
       "      <td>0</td>\n",
       "      <td>0</td>\n",
       "      <td>0</td>\n",
       "      <td>0</td>\n",
       "    </tr>\n",
       "  </tbody>\n",
       "</table>\n",
       "</div>"
      ],
      "text/plain": [
       "       is_title  length  is_upper  is_digit  is_prev_NE  prev_-1_POS_NNP  \\\n",
       "42758         0       7         0         0           0                0   \n",
       "56828         0       4         0         0           0                0   \n",
       "\n",
       "       prev_-1_POS_NN  is_prev_pos_same_as_current  POS_NNP  POS_NN  POS_IN  \\\n",
       "42758               0                            0        0       1       0   \n",
       "56828               0                            0        0       0       0   \n",
       "\n",
       "       POS_DT  POS_.  \n",
       "42758       0      0  \n",
       "56828       0      0  "
      ]
     },
     "execution_count": 12,
     "metadata": {},
     "output_type": "execute_result"
    }
   ],
   "source": [
    "x_train.head(2)"
   ]
  },
  {
   "cell_type": "markdown",
   "metadata": {},
   "source": [
    "<a id = 'RF'></a>\n",
    "\n",
    "## 2. Modelling with Random Forest\n",
    "\n",
    "[LINK to table of contents](#contents)"
   ]
  },
  {
   "cell_type": "code",
   "execution_count": 46,
   "metadata": {},
   "outputs": [
    {
     "name": "stdout",
     "output_type": "stream",
     "text": [
      "CPU times: user 3 µs, sys: 1e+03 ns, total: 4 µs\n",
      "Wall time: 12.2 µs\n"
     ]
    }
   ],
   "source": [
    "%time\n",
    "RF = RandomForestClassifier(n_estimators=50, max_depth=20, min_samples_split=.01, n_jobs=-1)\n",
    "\n",
    "preds = cross_val_predict(estimator=RF, X=x_train.values, y=y_train.values, cv=5)\n"
   ]
  },
  {
   "cell_type": "code",
   "execution_count": 50,
   "metadata": {},
   "outputs": [
    {
     "data": {
      "text/plain": [
       "True"
      ]
     },
     "execution_count": 50,
     "metadata": {},
     "output_type": "execute_result"
    }
   ],
   "source": [
    "preds.shape == y_train.shape"
   ]
  },
  {
   "cell_type": "code",
   "execution_count": 53,
   "metadata": {},
   "outputs": [
    {
     "name": "stdout",
     "output_type": "stream",
     "text": [
      "              precision    recall  f1-score   support\n",
      "\n",
      "       B-art       0.00      0.00      0.00        37\n",
      "       B-eve       0.00      0.00      0.00        34\n",
      "       B-geo       0.44      0.90      0.59      1668\n",
      "       B-gpe       0.59      0.57      0.58       973\n",
      "       B-nat       0.00      0.00      0.00        17\n",
      "       B-org       0.59      0.21      0.31       987\n",
      "       B-per       0.52      0.34      0.41       907\n",
      "       B-tim       0.83      0.20      0.32       926\n",
      "       I-art       0.00      0.00      0.00        26\n",
      "       I-eve       0.00      0.00      0.00        33\n",
      "       I-geo       0.49      0.12      0.20       331\n",
      "       I-gpe       0.00      0.00      0.00        27\n",
      "       I-nat       0.00      0.00      0.00         9\n",
      "       I-org       0.42      0.21      0.28       744\n",
      "       I-per       0.50      0.92      0.65       961\n",
      "       I-tim       0.98      0.36      0.52       261\n",
      "           O       0.98      0.99      0.99     44987\n",
      "\n",
      "    accuracy                           0.91     52928\n",
      "   macro avg       0.37      0.28      0.29     52928\n",
      "weighted avg       0.92      0.91      0.91     52928\n",
      "\n"
     ]
    }
   ],
   "source": [
    "report = classification_report(y_pred=preds, y_true=y_train)\n",
    "print(report)"
   ]
  },
  {
   "cell_type": "code",
   "execution_count": 83,
   "metadata": {},
   "outputs": [],
   "source": [
    "y_train_bin = np.zeros(y_train.shape)"
   ]
  },
  {
   "cell_type": "code",
   "execution_count": 84,
   "metadata": {},
   "outputs": [
    {
     "data": {
      "text/plain": [
       "array([0., 0., 0., ..., 0., 0., 0.])"
      ]
     },
     "execution_count": 84,
     "metadata": {},
     "output_type": "execute_result"
    }
   ],
   "source": [
    "for i in y_train_bin:\n",
    "    if y_train[i]!='O':\n",
    "        y_train_bin[i]=1\n",
    "y_train_bin"
   ]
  },
  {
   "cell_type": "code",
   "execution_count": 15,
   "metadata": {},
   "outputs": [
    {
     "data": {
      "text/plain": [
       "{'is_title': {42758: 0, 56828: 0, 18522: 0, 15552: 0, 20990: 0},\n",
       " 'length': {42758: 7, 56828: 4, 18522: 1, 15552: 2, 20990: 6},\n",
       " 'is_upper': {42758: 0, 56828: 0, 18522: 0, 15552: 0, 20990: 0},\n",
       " 'is_digit': {42758: 0, 56828: 0, 18522: 0, 15552: 0, 20990: 0},\n",
       " 'is_prev_NE': {42758: 0, 56828: 0, 18522: 1, 15552: 0, 20990: 1},\n",
       " 'prev_-1_POS_NNP': {42758: 0, 56828: 0, 18522: 1, 15552: 0, 20990: 1},\n",
       " 'prev_-1_POS_NN': {42758: 0, 56828: 0, 18522: 0, 15552: 0, 20990: 0},\n",
       " 'is_prev_pos_same_as_current': {42758: 0,\n",
       "  56828: 0,\n",
       "  18522: 0,\n",
       "  15552: 0,\n",
       "  20990: 0},\n",
       " 'POS_NNP': {42758: 0, 56828: 0, 18522: 0, 15552: 0, 20990: 0},\n",
       " 'POS_NN': {42758: 1, 56828: 0, 18522: 0, 15552: 0, 20990: 0},\n",
       " 'POS_IN': {42758: 0, 56828: 0, 18522: 0, 15552: 1, 20990: 0},\n",
       " 'POS_DT': {42758: 0, 56828: 0, 18522: 0, 15552: 0, 20990: 0},\n",
       " 'POS_.': {42758: 0, 56828: 0, 18522: 1, 15552: 0, 20990: 0}}"
      ]
     },
     "execution_count": 15,
     "metadata": {},
     "output_type": "execute_result"
    }
   ],
   "source": [
    "x_train.iloc[:5].to_dict()"
   ]
  },
  {
   "cell_type": "markdown",
   "metadata": {},
   "source": [
    "<a id = 'CRF'></a>\n",
    "\n",
    "## 3. Modelling with a Conditional Random Field\n",
    "\n",
    "[LINK to table of contents](#contents)\n",
    "\n",
    "Sklearn's CRF requires the input data to be a list of lists of dicts. I stored these as pickle files in notebook 3."
   ]
  },
  {
   "cell_type": "code",
   "execution_count": 23,
   "metadata": {},
   "outputs": [],
   "source": [
    "with open('clean_data/crf_train_data.pkl', 'rb') as f:\n",
    "    crf_features_train = pickle.load(f)\n",
    "    \n",
    "with open('clean_data/crf_test_data.pkl', 'rb') as f:\n",
    "    crf_features_test = pickle.load(f)\n",
    "    \n",
    "with open('clean_data/crf_train_targets.pkl', 'rb') as f:\n",
    "    crf_targets_train = pickle.load(f)\n",
    "    \n",
    "with open('clean_data/crf_test_targets.pkl', 'rb') as f:\n",
    "    crf_targets_test = pickle.load(f)\n",
    "    "
   ]
  },
  {
   "cell_type": "code",
   "execution_count": 24,
   "metadata": {},
   "outputs": [],
   "source": [
    "crf = CRF(algorithm='lbfgs',\n",
    "          c1=0.1,\n",
    "          c2=0.1,\n",
    "          max_iterations=100,\n",
    "          all_possible_transitions=True)"
   ]
  },
  {
   "cell_type": "code",
   "execution_count": 25,
   "metadata": {},
   "outputs": [
    {
     "name": "stdout",
     "output_type": "stream",
     "text": [
      "CPU times: user 2 µs, sys: 1 µs, total: 3 µs\n",
      "Wall time: 4.05 µs\n"
     ]
    },
    {
     "data": {
      "text/plain": [
       "CRF(algorithm='lbfgs', all_possible_states=None, all_possible_transitions=True,\n",
       "    averaging=None, c=None, c1=0.1, c2=0.1, calibration_candidates=None,\n",
       "    calibration_eta=None, calibration_max_trials=None, calibration_rate=None,\n",
       "    calibration_samples=None, delta=None, epsilon=None, error_sensitive=None,\n",
       "    gamma=None, keep_tempfiles=None, linesearch=None, max_iterations=100,\n",
       "    max_linesearch=None, min_freq=None, model_filename=None, num_memories=None,\n",
       "    pa_type=None, period=None, trainer_cls=None, variance=None, verbose=False)"
      ]
     },
     "execution_count": 25,
     "metadata": {},
     "output_type": "execute_result"
    }
   ],
   "source": [
    "%time\n",
    "crf.fit(crf_features_train, crf_targets_train)"
   ]
  },
  {
   "cell_type": "code",
   "execution_count": 26,
   "metadata": {},
   "outputs": [
    {
     "data": {
      "text/plain": [
       "['O',\n",
       " 'B-geo',\n",
       " 'B-gpe',\n",
       " 'B-per',\n",
       " 'I-geo',\n",
       " 'B-org',\n",
       " 'I-org',\n",
       " 'B-tim',\n",
       " 'B-art',\n",
       " 'I-art',\n",
       " 'I-per',\n",
       " 'I-gpe',\n",
       " 'I-tim',\n",
       " 'B-nat',\n",
       " 'B-eve',\n",
       " 'I-eve',\n",
       " 'I-nat']"
      ]
     },
     "execution_count": 26,
     "metadata": {},
     "output_type": "execute_result"
    }
   ],
   "source": [
    "labels = list(crf.classes_)\n",
    "labels"
   ]
  },
  {
   "cell_type": "code",
   "execution_count": 27,
   "metadata": {},
   "outputs": [
    {
     "data": {
      "text/plain": [
       "0.9471352834210373"
      ]
     },
     "execution_count": 27,
     "metadata": {},
     "output_type": "execute_result"
    }
   ],
   "source": [
    "crf_y_pred = crf.predict(crf_features_test)\n",
    "metrics.flat_f1_score(crf_targets_test, crf_y_pred,\n",
    "                      average='weighted', labels=labels)"
   ]
  },
  {
   "cell_type": "code",
   "execution_count": 28,
   "metadata": {},
   "outputs": [
    {
     "name": "stdout",
     "output_type": "stream",
     "text": [
      "              precision    recall  f1-score   support\n",
      "\n",
      "           O      0.984     0.987     0.986     11139\n",
      "       B-art      0.000     0.000     0.000         2\n",
      "       I-art      0.000     0.000     0.000         2\n",
      "       B-eve      0.400     0.333     0.364         6\n",
      "       I-eve      0.400     0.500     0.444         4\n",
      "       B-geo      0.769     0.738     0.753       474\n",
      "       I-geo      0.600     0.600     0.600        75\n",
      "       B-gpe      0.788     0.819     0.803       204\n",
      "       I-gpe      0.000     0.000     0.000         2\n",
      "       B-nat      0.000     0.000     0.000         2\n",
      "       I-nat      0.000     0.000     0.000         0\n",
      "       B-org      0.628     0.626     0.627       227\n",
      "       I-org      0.728     0.639     0.681       205\n",
      "       B-per      0.805     0.709     0.754       268\n",
      "       I-per      0.689     0.908     0.783       239\n",
      "       B-tim      0.887     0.793     0.837       237\n",
      "       I-tim      0.754     0.591     0.662        88\n",
      "\n",
      "   micro avg      0.948     0.948     0.948     13174\n",
      "   macro avg      0.496     0.485     0.488     13174\n",
      "weighted avg      0.948     0.948     0.947     13174\n",
      "\n"
     ]
    }
   ],
   "source": [
    "sorted_labels = sorted(\n",
    "    labels,\n",
    "    key=lambda name: (name[1:], name[0]))\n",
    "\n",
    "print(metrics.flat_classification_report(\n",
    "    crf_targets_test, crf_y_pred, labels=sorted_labels, digits=3))"
   ]
  },
  {
   "cell_type": "code",
   "execution_count": null,
   "metadata": {},
   "outputs": [],
   "source": []
  },
  {
   "cell_type": "markdown",
   "metadata": {},
   "source": [
    "<a id=ttsplit ><a/> \n",
    "\n",
    "## 3. Train-test split and model transformation\n",
    "   \n",
    "[LINK to table of contents](#contents)"
   ]
  },
  {
   "cell_type": "code",
   "execution_count": null,
   "metadata": {},
   "outputs": [],
   "source": []
  },
  {
   "cell_type": "markdown",
   "metadata": {},
   "source": [
    "<a id=selection></a>\n",
    "\n",
    "## 4. Choice of model architectures\n",
    "\n",
    "[LINK to table of contents](#contents)"
   ]
  },
  {
   "cell_type": "code",
   "execution_count": null,
   "metadata": {},
   "outputs": [],
   "source": []
  },
  {
   "cell_type": "markdown",
   "metadata": {},
   "source": [
    "<a id=one ><a/> \n",
    "\n",
    "## 4.1 Model 1\n",
    "    \n",
    "[LINK to table of contents](#contents)"
   ]
  },
  {
   "cell_type": "code",
   "execution_count": null,
   "metadata": {},
   "outputs": [],
   "source": []
  },
  {
   "cell_type": "markdown",
   "metadata": {},
   "source": [
    "<a id=two ><a/> \n",
    "\n",
    "## 4.2 Model 2\n",
    "    \n",
    "[LINK to table of contents](#contents)"
   ]
  },
  {
   "cell_type": "code",
   "execution_count": null,
   "metadata": {},
   "outputs": [],
   "source": []
  },
  {
   "cell_type": "markdown",
   "metadata": {},
   "source": [
    "<a id=three ><a/> \n",
    "\n",
    "## 4.3 Model 3\n",
    "    \n",
    "[LINK to table of contents](#contents)"
   ]
  },
  {
   "cell_type": "code",
   "execution_count": null,
   "metadata": {},
   "outputs": [],
   "source": []
  },
  {
   "cell_type": "markdown",
   "metadata": {},
   "source": [
    "<a id=four ><a/> \n",
    "\n",
    "## 4.4 Model 4\n",
    "    \n",
    "[LINK to table of contents](#contents)"
   ]
  },
  {
   "cell_type": "code",
   "execution_count": null,
   "metadata": {},
   "outputs": [],
   "source": []
  },
  {
   "cell_type": "markdown",
   "metadata": {},
   "source": [
    "<a id=five ><a/> \n",
    "\n",
    "## 4.5 Model 5\n",
    "    \n",
    "[LINK to table of contents](#contents)"
   ]
  },
  {
   "cell_type": "code",
   "execution_count": null,
   "metadata": {},
   "outputs": [],
   "source": []
  },
  {
   "cell_type": "markdown",
   "metadata": {},
   "source": [
    "<a id=conc ><a/> \n",
    "\n",
    "## 7. Conclusions and model comparison table\n",
    "    \n",
    "[LINK to table of contents](#contents)"
   ]
  },
  {
   "cell_type": "code",
   "execution_count": null,
   "metadata": {},
   "outputs": [],
   "source": []
  }
 ],
 "metadata": {
  "kernelspec": {
   "display_name": "learn-env",
   "language": "python",
   "name": "learn-env"
  },
  "language_info": {
   "codemirror_mode": {
    "name": "ipython",
    "version": 3
   },
   "file_extension": ".py",
   "mimetype": "text/x-python",
   "name": "python",
   "nbconvert_exporter": "python",
   "pygments_lexer": "ipython3",
   "version": "3.6.10"
  }
 },
 "nbformat": 4,
 "nbformat_minor": 4
}
